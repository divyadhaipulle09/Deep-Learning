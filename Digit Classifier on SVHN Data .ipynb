{
 "cells": [
  {
   "cell_type": "markdown",
   "metadata": {
    "id": "ISILH1BpU5kw"
   },
   "source": [
    "## **1. Data Import and Exploration**"
   ]
  },
  {
   "cell_type": "markdown",
   "metadata": {
    "id": "jfOeDczjU-m4"
   },
   "source": [
    "### **A. Read the .h5 file and assign to a variable.**"
   ]
  },
  {
   "cell_type": "code",
   "execution_count": 59,
   "metadata": {
    "executionInfo": {
     "elapsed": 715,
     "status": "ok",
     "timestamp": 1657467275321,
     "user": {
      "displayName": "Naveen Kumar",
      "userId": "15460283466251187880"
     },
     "user_tz": -330
    },
    "id": "GioKitU1U7mc"
   },
   "outputs": [],
   "source": [
    "import h5py"
   ]
  },
  {
   "cell_type": "code",
   "execution_count": 61,
   "metadata": {
    "executionInfo": {
     "elapsed": 5,
     "status": "ok",
     "timestamp": 1657467276049,
     "user": {
      "displayName": "Naveen Kumar",
      "userId": "15460283466251187880"
     },
     "user_tz": -330
    },
    "id": "lmwBN7bdU22m"
   },
   "outputs": [],
   "source": [
    "# Assinging the data from google drive to Pandas data frame\n",
    "h5_data = h5py.File('Autonomous_Vehicles_SVHN_single_grey1.h5', 'r')"
   ]
  },
  {
   "cell_type": "markdown",
   "metadata": {
    "id": "AeN3__icb39T"
   },
   "source": [
    "### **B. Print all the keys from the .h5 file.**"
   ]
  },
  {
   "cell_type": "code",
   "execution_count": 62,
   "metadata": {
    "colab": {
     "base_uri": "https://localhost:8080/"
    },
    "executionInfo": {
     "elapsed": 573,
     "status": "ok",
     "timestamp": 1657467280800,
     "user": {
      "displayName": "Naveen Kumar",
      "userId": "15460283466251187880"
     },
     "user_tz": -330
    },
    "id": "TsjXfHY4U1Yl",
    "outputId": "c228a3e4-63b0-4866-91d4-ea299dc795d6"
   },
   "outputs": [
    {
     "data": {
      "text/plain": [
       "<KeysViewHDF5 ['X_test', 'X_train', 'X_val', 'y_test', 'y_train', 'y_val']>"
      ]
     },
     "execution_count": 62,
     "metadata": {},
     "output_type": "execute_result"
    }
   ],
   "source": [
    "h5_data.keys()"
   ]
  },
  {
   "cell_type": "markdown",
   "metadata": {
    "id": "-4fG92FLcCnV"
   },
   "source": [
    "### **C. Split the data into X_train, X_test, Y_train, Y_test**"
   ]
  },
  {
   "cell_type": "code",
   "execution_count": 63,
   "metadata": {
    "executionInfo": {
     "elapsed": 2750,
     "status": "ok",
     "timestamp": 1657467286299,
     "user": {
      "displayName": "Naveen Kumar",
      "userId": "15460283466251187880"
     },
     "user_tz": -330
    },
    "id": "8Db8k590b_C4"
   },
   "outputs": [],
   "source": [
    "# Loading Test, Training and validation data to variables\n",
    "X_train = h5_data['X_train'][:]\n",
    "X_test = h5_data['X_test'][:]\n",
    "X_val = h5_data['X_val'][:]\n",
    "y_train = h5_data['y_train'][:]\n",
    "y_test = h5_data['y_test'][:]\n",
    "y_val = h5_data['y_val'][:]"
   ]
  },
  {
   "cell_type": "code",
   "execution_count": 64,
   "metadata": {
    "executionInfo": {
     "elapsed": 4,
     "status": "ok",
     "timestamp": 1657467286300,
     "user": {
      "displayName": "Naveen Kumar",
      "userId": "15460283466251187880"
     },
     "user_tz": -330
    },
    "id": "2jiBqe6mcLo5"
   },
   "outputs": [],
   "source": [
    "# Closing the large h5 file\n",
    "h5_data.close()"
   ]
  },
  {
   "cell_type": "markdown",
   "metadata": {
    "id": "UhOGgfuTcPO_"
   },
   "source": [
    "## **2. Data Visualisation and preprocessing**"
   ]
  },
  {
   "cell_type": "markdown",
   "metadata": {
    "id": "tnbhPii-cVnO"
   },
   "source": [
    "### **A. Print shape of all the 4 data split into x, y, train, test to verify if x & y is in sync.**"
   ]
  },
  {
   "cell_type": "code",
   "execution_count": 65,
   "metadata": {
    "colab": {
     "base_uri": "https://localhost:8080/"
    },
    "executionInfo": {
     "elapsed": 404,
     "status": "ok",
     "timestamp": 1657467289141,
     "user": {
      "displayName": "Naveen Kumar",
      "userId": "15460283466251187880"
     },
     "user_tz": -330
    },
    "id": "fVQAvAc0cMaS",
    "outputId": "3a966a2c-0be1-4c11-9022-7e463da41935"
   },
   "outputs": [
    {
     "name": "stdout",
     "output_type": "stream",
     "text": [
      "X Train shape -  (42000, 32, 32)\n",
      "X Test shape -  (18000, 32, 32)\n",
      "X val shape -  (60000, 32, 32)\n",
      "y Train shape -  (42000,)\n",
      "y Test shape -  (18000,)\n",
      "y val shape -  (60000,)\n"
     ]
    }
   ],
   "source": [
    "# Displaying the actual shapes\n",
    "print('X Train shape - ', X_train.shape)\n",
    "print('X Test shape - ', X_test.shape)\n",
    "print('X val shape - ', X_val.shape)\n",
    "print('y Train shape - ', y_train.shape)\n",
    "print('y Test shape - ', y_test.shape)\n",
    "print('y val shape - ', y_val.shape)"
   ]
  },
  {
   "cell_type": "markdown",
   "metadata": {
    "id": "jqn3_FiQcfEv"
   },
   "source": [
    "### **B. Visualise first 10 images in train data and print its corresponding labels.**"
   ]
  },
  {
   "cell_type": "code",
   "execution_count": 66,
   "metadata": {
    "colab": {
     "base_uri": "https://localhost:8080/",
     "height": 283
    },
    "executionInfo": {
     "elapsed": 9,
     "status": "ok",
     "timestamp": 1657467289996,
     "user": {
      "displayName": "Naveen Kumar",
      "userId": "15460283466251187880"
     },
     "user_tz": -330
    },
    "id": "YyvUpmNFccF5",
    "outputId": "0299d3fb-99d7-41a5-b7d1-4f3d2ce2a8c1"
   },
   "outputs": [
    {
     "name": "stdout",
     "output_type": "stream",
     "text": [
      "Label for the below image is 2\n"
     ]
    },
    {
     "data": {
      "image/png": "[encoded data removed]",
      "text/plain": [
       "<Figure size 432x288 with 1 Axes>"
      ]
     },
     "metadata": {
      "needs_background": "light"
     },
     "output_type": "display_data"
    }
   ],
   "source": [
    "# Displaying first data from dataset along with label\n",
    "plt.imshow(X_train[0],cmap='gray')\n",
    "print(f'Label for the below image is {y_train[0]}')"
   ]
  },
  {
   "cell_type": "code",
   "execution_count": 67,
   "metadata": {
    "colab": {
     "base_uri": "https://localhost:8080/",
     "height": 371
    },
    "executionInfo": {
     "elapsed": 1946,
     "status": "ok",
     "timestamp": 1657467291935,
     "user": {
      "displayName": "Naveen Kumar",
      "userId": "15460283466251187880"
     },
     "user_tz": -330
    },
    "id": "sFLS2rHXccIm",
    "outputId": "d8568e18-36f4-4354-e07c-8055d6df9047"
   },
   "outputs": [
    {
     "data": {
      "image/png": "[encoded data removed]",
      "text/plain": [
       "<Figure size 1800x576 with 10 Axes>"
      ]
     },
     "metadata": {
      "needs_background": "light"
     },
     "output_type": "display_data"
    }
   ],
   "source": [
    "# Visualizing the dataset\n",
    "fig = plt.figure(figsize = (25, 8))\n",
    "columns = 5\n",
    "rows = 2\n",
    "for i in range(1, columns * rows + 1):\n",
    "    img = X_train[i]\n",
    "    fig.add_subplot(rows, columns, i)\n",
    "    plt.imshow(img, cmap = 'gray')\n",
    "    plt.title(f'Label for the below image is {y_train[i]}')\n",
    "plt.show()"
   ]
  },
  {
   "cell_type": "markdown",
   "metadata": {
    "id": "uxM0N9y2dHaI"
   },
   "source": [
    "### **C. Reshape all the images with appropriate shape update the data in same variable**"
   ]
  },
  {
   "cell_type": "code",
   "execution_count": 68,
   "metadata": {
    "executionInfo": {
     "elapsed": 23,
     "status": "ok",
     "timestamp": 1657467291936,
     "user": {
      "displayName": "Naveen Kumar",
      "userId": "15460283466251187880"
     },
     "user_tz": -330
    },
    "id": "7uN2YYcqccLJ"
   },
   "outputs": [],
   "source": [
    "# Resizing/Reshaping dataset - 3d data to 2d data conversion\n",
    "\n",
    "X_train = X_train.reshape(X_train.shape[0], 32*32, 1)\n",
    "X_test = X_test.reshape(X_test.shape[0], 32*32, 1)\n",
    "X_val = X_val.reshape(X_val.shape[0], 32*32, 1)"
   ]
  },
  {
   "cell_type": "markdown",
   "metadata": {
    "id": "Qgptcz6hdNIn"
   },
   "source": [
    "### **D. Normalise the images i.e. Normalise the pixel values.**"
   ]
  },
  {
   "cell_type": "code",
   "execution_count": 69,
   "metadata": {
    "executionInfo": {
     "elapsed": 22,
     "status": "ok",
     "timestamp": 1657467291936,
     "user": {
      "displayName": "Naveen Kumar",
      "userId": "15460283466251187880"
     },
     "user_tz": -330
    },
    "id": "t9UhJI1LccN6"
   },
   "outputs": [],
   "source": [
    "# Grayscale Image has values ranging from 0-255. Normalizing it to 0-1\n",
    "X_train = X_train / 255.0\n",
    "X_test = X_test / 255.0\n",
    "X_val = X_val / 255.0"
   ]
  },
  {
   "cell_type": "code",
   "execution_count": 70,
   "metadata": {
    "colab": {
     "base_uri": "https://localhost:8080/"
    },
    "executionInfo": {
     "elapsed": 22,
     "status": "ok",
     "timestamp": 1657467291936,
     "user": {
      "displayName": "Naveen Kumar",
      "userId": "15460283466251187880"
     },
     "user_tz": -330
    },
    "id": "4Dc9WAL6dV1W",
    "outputId": "afd98a7d-a0e9-485b-a773-ad33b01042c4"
   },
   "outputs": [
    {
     "name": "stdout",
     "output_type": "stream",
     "text": [
      "Reshaped X Train -  (42000, 1024, 1)\n",
      "Reshaped X Test -  (18000, 1024, 1)\n",
      "Reshaped X val -  (60000, 1024, 1)\n",
      "Reshaped y Train -  (42000,)\n",
      "Reshaped y Test -  (18000,)\n",
      "Reshaped y Val -  (60000,)\n"
     ]
    }
   ],
   "source": [
    "print('Reshaped X Train - ', X_train.shape)\n",
    "print('Reshaped X Test - ', X_test.shape)\n",
    "print('Reshaped X val - ', X_val.shape)\n",
    "print('Reshaped y Train - ', y_train.shape)\n",
    "print('Reshaped y Test - ', y_test.shape)\n",
    "print('Reshaped y Val - ', y_val.shape)\n"
   ]
  },
  {
   "cell_type": "markdown",
   "metadata": {
    "id": "vABhbDAadghF"
   },
   "source": [
    "### **E. Transform Labels into format acceptable by Neural Network**"
   ]
  },
  {
   "cell_type": "code",
   "execution_count": 74,
   "metadata": {
    "executionInfo": {
     "elapsed": 374,
     "status": "ok",
     "timestamp": 1657467307331,
     "user": {
      "displayName": "Naveen Kumar",
      "userId": "15460283466251187880"
     },
     "user_tz": -330
    },
    "id": "vHsAzMQwdV3Z"
   },
   "outputs": [],
   "source": [
    "# One hot encoding for the target variable\n",
    "from tensorflow.keras.utils import to_categorical\n",
    "\n",
    "y_train_label = to_categorical(y_train)\n",
    "y_test_label = to_categorical(y_test)\n",
    "y_val_label = to_categorical(y_val)\n"
   ]
  },
  {
   "cell_type": "markdown",
   "metadata": {
    "id": "-ydHRGsx6ajD"
   },
   "source": [
    "### **F. Print total Number of classes in the Dataset.**"
   ]
  },
  {
   "cell_type": "code",
   "execution_count": 75,
   "metadata": {
    "colab": {
     "base_uri": "https://localhost:8080/"
    },
    "executionInfo": {
     "elapsed": 715,
     "status": "ok",
     "timestamp": 1657467310921,
     "user": {
      "displayName": "Naveen Kumar",
      "userId": "15460283466251187880"
     },
     "user_tz": -330
    },
    "id": "TUQ98meD6Z2L",
    "outputId": "9ed740d7-4305-46f0-c1df-67fc69edef95"
   },
   "outputs": [
    {
     "name": "stdout",
     "output_type": "stream",
     "text": [
      "total number of classes in dataset: 10\n"
     ]
    }
   ],
   "source": [
    "# way-1 - total number of classes in the dataset will be nothing but the column size of y_train/y_test/y_val\n",
    "num_types = y_test_label.shape[1]\n",
    "print(\"total number of classes in dataset:\",num_types)"
   ]
  },
  {
   "cell_type": "code",
   "execution_count": 76,
   "metadata": {
    "colab": {
     "base_uri": "https://localhost:8080/"
    },
    "executionInfo": {
     "elapsed": 8,
     "status": "ok",
     "timestamp": 1657467310922,
     "user": {
      "displayName": "Naveen Kumar",
      "userId": "15460283466251187880"
     },
     "user_tz": -330
    },
    "id": "MPAqVaGL7CCY",
    "outputId": "2dad6c65-0406-4a62-8f82-f4ffbb96522d"
   },
   "outputs": [
    {
     "name": "stdout",
     "output_type": "stream",
     "text": [
      "total number of classes in dataset: 10\n"
     ]
    }
   ],
   "source": [
    "# way-2  - get the unique values count from y_train, y_test, y_val\n",
    "print(\"total number of classes in dataset:\", len(set([*y_train, *y_test, *y_val])))\n"
   ]
  },
  {
   "cell_type": "markdown",
   "metadata": {
    "id": "7Pdi5L7F8Ybz"
   },
   "source": [
    "## **3. Model Training & Evaluation using Neural Network**"
   ]
  },
  {
   "cell_type": "code",
   "execution_count": 77,
   "metadata": {
    "colab": {
     "base_uri": "https://localhost:8080/",
     "height": 371
    },
    "executionInfo": {
     "elapsed": 2223,
     "status": "ok",
     "timestamp": 1657467338672,
     "user": {
      "displayName": "Naveen Kumar",
      "userId": "15460283466251187880"
     },
     "user_tz": -330
    },
    "id": "6as3pVp3dV6C",
    "outputId": "c354ff36-c052-4ebb-91b4-a19c449b3b33"
   },
   "outputs": [
    {
     "data": {
      "image/png": "[encoded data removed]",
      "text/plain": [
       "<Figure size 1800x576 with 10 Axes>"
      ]
     },
     "metadata": {
      "needs_background": "light"
     },
     "output_type": "display_data"
    }
   ],
   "source": [
    "# Visualizing the dataset to check normalizing and reshaping is accurate\n",
    "fig = plt.figure(figsize = (25, 8))\n",
    "columns = 5\n",
    "rows = 2\n",
    "for i in range(1, columns * rows + 1):\n",
    "    img = X_test[i].reshape(32,32)\n",
    "    fig.add_subplot(rows, columns, i)\n",
    "    plt.imshow(img, cmap = 'gray')\n",
    "    plt.title(f'Label for the below image is {np.argmax(y_test_label[0:11][i])}')\n",
    "plt.show()"
   ]
  },
  {
   "cell_type": "markdown",
   "metadata": {
    "id": "_A3fv98O8d3n"
   },
   "source": [
    "### **A. Design a Neural Network to train a classifier.**"
   ]
  },
  {
   "cell_type": "code",
   "execution_count": 78,
   "metadata": {
    "executionInfo": {
     "elapsed": 380,
     "status": "ok",
     "timestamp": 1657467341904,
     "user": {
      "displayName": "Naveen Kumar",
      "userId": "15460283466251187880"
     },
     "user_tz": -330
    },
    "id": "GOOCXnYmdV8r"
   },
   "outputs": [],
   "source": [
    "def design_model():\n",
    "    # create model\n",
    "    model = Sequential()  \n",
    "    model.add(Flatten())\n",
    "    model.add(Dense(256, activation='relu'))\n",
    "    model.add(Dense(64, activation='relu'))\n",
    "    model.add(Dense(64, activation='relu'))\n",
    "    model.add(Dense(32, activation='relu'))\n",
    "    model.add(Dense(10, activation='softmax'))\n",
    "    return model"
   ]
  },
  {
   "cell_type": "markdown",
   "metadata": {
    "id": "toj1bwFc8rhA"
   },
   "source": [
    "### **B. Train the classifier using previously designed Architecture**"
   ]
  },
  {
   "cell_type": "code",
   "execution_count": 79,
   "metadata": {
    "executionInfo": {
     "elapsed": 2,
     "status": "ok",
     "timestamp": 1657467347312,
     "user": {
      "displayName": "Naveen Kumar",
      "userId": "15460283466251187880"
     },
     "user_tz": -330
    },
    "id": "Lh2ImSBf8mrh"
   },
   "outputs": [],
   "source": [
    "model = design_model()"
   ]
  },
  {
   "cell_type": "code",
   "execution_count": 80,
   "metadata": {
    "executionInfo": {
     "elapsed": 2,
     "status": "ok",
     "timestamp": 1657467347945,
     "user": {
      "displayName": "Naveen Kumar",
      "userId": "15460283466251187880"
     },
     "user_tz": -330
    },
    "id": "jey_e6mO8muT"
   },
   "outputs": [],
   "source": [
    "# Model Compilation\n",
    "sgd = optimizers.Adam(learning_rate=1e-3)\n",
    "model.compile(loss='categorical_crossentropy', optimizer=sgd, metrics=['accuracy']) "
   ]
  },
  {
   "cell_type": "code",
   "execution_count": 81,
   "metadata": {
    "colab": {
     "base_uri": "https://localhost:8080/"
    },
    "executionInfo": {
     "elapsed": 304840,
     "status": "ok",
     "timestamp": 1657467653827,
     "user": {
      "displayName": "Naveen Kumar",
      "userId": "15460283466251187880"
     },
     "user_tz": -330
    },
    "id": "h3S4M1HW8mws",
    "outputId": "a8316932-9362-42b2-8747-69f1e60b1174"
   },
   "outputs": [
    {
     "name": "stdout",
     "output_type": "stream",
     "text": [
      "Epoch 1/100\n",
      "140/140 - 5s - loss: 2.2770 - accuracy: 0.1355 - val_loss: 2.1395 - val_accuracy: 0.2353 - 5s/epoch - 34ms/step\n",
      "Epoch 2/100\n",
      "140/140 - 4s - loss: 1.9279 - accuracy: 0.3125 - val_loss: 1.7640 - val_accuracy: 0.3765 - 4s/epoch - 29ms/step\n",
      "Epoch 3/100\n",
      "140/140 - 4s - loss: 1.6348 - accuracy: 0.4384 - val_loss: 1.5295 - val_accuracy: 0.4929 - 4s/epoch - 27ms/step\n",
      "Epoch 4/100\n",
      "140/140 - 2s - loss: 1.4428 - accuracy: 0.5200 - val_loss: 1.3401 - val_accuracy: 0.5598 - 2s/epoch - 17ms/step\n",
      "Epoch 5/100\n",
      "140/140 - 2s - loss: 1.3237 - accuracy: 0.5664 - val_loss: 1.2713 - val_accuracy: 0.5867 - 2s/epoch - 18ms/step\n",
      "Epoch 6/100\n",
      "140/140 - 3s - loss: 1.2459 - accuracy: 0.5985 - val_loss: 1.2658 - val_accuracy: 0.5855 - 3s/epoch - 18ms/step\n",
      "Epoch 7/100\n",
      "140/140 - 2s - loss: 1.2180 - accuracy: 0.6088 - val_loss: 1.1452 - val_accuracy: 0.6402 - 2s/epoch - 17ms/step\n",
      "Epoch 8/100\n",
      "140/140 - 2s - loss: 1.1315 - accuracy: 0.6423 - val_loss: 1.1041 - val_accuracy: 0.6504 - 2s/epoch - 17ms/step\n",
      "Epoch 9/100\n",
      "140/140 - 2s - loss: 1.0849 - accuracy: 0.6607 - val_loss: 1.0564 - val_accuracy: 0.6696 - 2s/epoch - 17ms/step\n",
      "Epoch 10/100\n",
      "140/140 - 3s - loss: 1.0638 - accuracy: 0.6676 - val_loss: 1.0311 - val_accuracy: 0.6778 - 3s/epoch - 18ms/step\n",
      "Epoch 11/100\n",
      "140/140 - 3s - loss: 1.0217 - accuracy: 0.6814 - val_loss: 0.9951 - val_accuracy: 0.6905 - 3s/epoch - 23ms/step\n",
      "Epoch 12/100\n",
      "140/140 - 4s - loss: 0.9861 - accuracy: 0.6976 - val_loss: 0.9860 - val_accuracy: 0.6950 - 4s/epoch - 27ms/step\n",
      "Epoch 13/100\n",
      "140/140 - 3s - loss: 0.9653 - accuracy: 0.7020 - val_loss: 0.9579 - val_accuracy: 0.7050 - 3s/epoch - 23ms/step\n",
      "Epoch 14/100\n",
      "140/140 - 3s - loss: 0.9499 - accuracy: 0.7069 - val_loss: 0.9468 - val_accuracy: 0.7077 - 3s/epoch - 24ms/step\n",
      "Epoch 15/100\n",
      "140/140 - 4s - loss: 0.9296 - accuracy: 0.7111 - val_loss: 0.8902 - val_accuracy: 0.7279 - 4s/epoch - 29ms/step\n",
      "Epoch 16/100\n",
      "140/140 - 3s - loss: 0.8947 - accuracy: 0.7239 - val_loss: 0.8973 - val_accuracy: 0.7218 - 3s/epoch - 19ms/step\n",
      "Epoch 17/100\n",
      "140/140 - 2s - loss: 0.8797 - accuracy: 0.7286 - val_loss: 0.8539 - val_accuracy: 0.7373 - 2s/epoch - 17ms/step\n",
      "Epoch 18/100\n",
      "140/140 - 2s - loss: 0.8660 - accuracy: 0.7342 - val_loss: 0.8555 - val_accuracy: 0.7388 - 2s/epoch - 17ms/step\n",
      "Epoch 19/100\n",
      "140/140 - 2s - loss: 0.8425 - accuracy: 0.7412 - val_loss: 0.8386 - val_accuracy: 0.7405 - 2s/epoch - 17ms/step\n",
      "Epoch 20/100\n",
      "140/140 - 2s - loss: 0.8314 - accuracy: 0.7436 - val_loss: 0.8309 - val_accuracy: 0.7425 - 2s/epoch - 17ms/step\n",
      "Epoch 21/100\n",
      "140/140 - 3s - loss: 0.8171 - accuracy: 0.7494 - val_loss: 0.8311 - val_accuracy: 0.7433 - 3s/epoch - 18ms/step\n",
      "Epoch 22/100\n",
      "140/140 - 3s - loss: 0.8026 - accuracy: 0.7526 - val_loss: 0.8100 - val_accuracy: 0.7513 - 3s/epoch - 21ms/step\n",
      "Epoch 23/100\n",
      "140/140 - 4s - loss: 0.7895 - accuracy: 0.7563 - val_loss: 0.7595 - val_accuracy: 0.7683 - 4s/epoch - 27ms/step\n",
      "Epoch 24/100\n",
      "140/140 - 3s - loss: 0.7706 - accuracy: 0.7615 - val_loss: 0.7968 - val_accuracy: 0.7523 - 3s/epoch - 24ms/step\n",
      "Epoch 25/100\n",
      "140/140 - 4s - loss: 0.7658 - accuracy: 0.7643 - val_loss: 0.7790 - val_accuracy: 0.7600 - 4s/epoch - 28ms/step\n",
      "Epoch 26/100\n",
      "140/140 - 4s - loss: 0.7529 - accuracy: 0.7680 - val_loss: 0.7379 - val_accuracy: 0.7746 - 4s/epoch - 25ms/step\n",
      "Epoch 27/100\n",
      "140/140 - 3s - loss: 0.7492 - accuracy: 0.7680 - val_loss: 0.7586 - val_accuracy: 0.7656 - 3s/epoch - 20ms/step\n",
      "Epoch 28/100\n",
      "140/140 - 2s - loss: 0.7380 - accuracy: 0.7727 - val_loss: 0.7759 - val_accuracy: 0.7622 - 2s/epoch - 17ms/step\n",
      "Epoch 29/100\n",
      "140/140 - 2s - loss: 0.7303 - accuracy: 0.7752 - val_loss: 0.7052 - val_accuracy: 0.7857 - 2s/epoch - 18ms/step\n",
      "Epoch 30/100\n",
      "140/140 - 2s - loss: 0.7111 - accuracy: 0.7812 - val_loss: 0.7128 - val_accuracy: 0.7837 - 2s/epoch - 17ms/step\n",
      "Epoch 31/100\n",
      "140/140 - 2s - loss: 0.7136 - accuracy: 0.7783 - val_loss: 0.8009 - val_accuracy: 0.7567 - 2s/epoch - 17ms/step\n",
      "Epoch 32/100\n",
      "140/140 - 3s - loss: 0.7059 - accuracy: 0.7806 - val_loss: 0.7113 - val_accuracy: 0.7840 - 3s/epoch - 19ms/step\n",
      "Epoch 33/100\n",
      "140/140 - 3s - loss: 0.6911 - accuracy: 0.7870 - val_loss: 0.6944 - val_accuracy: 0.7886 - 3s/epoch - 18ms/step\n",
      "Epoch 34/100\n",
      "140/140 - 4s - loss: 0.6862 - accuracy: 0.7866 - val_loss: 0.7230 - val_accuracy: 0.7781 - 4s/epoch - 27ms/step\n",
      "Epoch 35/100\n",
      "140/140 - 4s - loss: 0.6774 - accuracy: 0.7914 - val_loss: 0.7483 - val_accuracy: 0.7739 - 4s/epoch - 28ms/step\n",
      "Epoch 36/100\n",
      "140/140 - 4s - loss: 0.6753 - accuracy: 0.7920 - val_loss: 0.6964 - val_accuracy: 0.7869 - 4s/epoch - 25ms/step\n",
      "Epoch 37/100\n",
      "140/140 - 4s - loss: 0.6581 - accuracy: 0.7973 - val_loss: 0.6753 - val_accuracy: 0.7955 - 4s/epoch - 26ms/step\n",
      "Epoch 38/100\n",
      "140/140 - 4s - loss: 0.6552 - accuracy: 0.7994 - val_loss: 0.6650 - val_accuracy: 0.7980 - 4s/epoch - 26ms/step\n",
      "Epoch 39/100\n",
      "140/140 - 3s - loss: 0.6515 - accuracy: 0.7995 - val_loss: 0.6706 - val_accuracy: 0.7977 - 3s/epoch - 18ms/step\n",
      "Epoch 40/100\n",
      "140/140 - 2s - loss: 0.6479 - accuracy: 0.8009 - val_loss: 0.6633 - val_accuracy: 0.7972 - 2s/epoch - 17ms/step\n",
      "Epoch 41/100\n",
      "140/140 - 2s - loss: 0.6398 - accuracy: 0.8037 - val_loss: 0.6529 - val_accuracy: 0.8017 - 2s/epoch - 17ms/step\n",
      "Epoch 42/100\n",
      "140/140 - 3s - loss: 0.6372 - accuracy: 0.8048 - val_loss: 0.6491 - val_accuracy: 0.8030 - 3s/epoch - 18ms/step\n",
      "Epoch 43/100\n",
      "140/140 - 2s - loss: 0.6353 - accuracy: 0.8057 - val_loss: 0.6606 - val_accuracy: 0.7991 - 2s/epoch - 17ms/step\n",
      "Epoch 44/100\n",
      "140/140 - 3s - loss: 0.6208 - accuracy: 0.8087 - val_loss: 0.6369 - val_accuracy: 0.8081 - 3s/epoch - 20ms/step\n",
      "Epoch 45/100\n",
      "140/140 - 4s - loss: 0.6048 - accuracy: 0.8136 - val_loss: 0.6755 - val_accuracy: 0.7943 - 4s/epoch - 27ms/step\n",
      "Epoch 46/100\n",
      "140/140 - 3s - loss: 0.6052 - accuracy: 0.8149 - val_loss: 0.6346 - val_accuracy: 0.8074 - 3s/epoch - 25ms/step\n",
      "Epoch 47/100\n",
      "140/140 - 3s - loss: 0.6126 - accuracy: 0.8113 - val_loss: 0.6563 - val_accuracy: 0.8003 - 3s/epoch - 24ms/step\n",
      "Epoch 48/100\n",
      "140/140 - 4s - loss: 0.6007 - accuracy: 0.8154 - val_loss: 0.6124 - val_accuracy: 0.8146 - 4s/epoch - 29ms/step\n",
      "Epoch 49/100\n",
      "140/140 - 3s - loss: 0.6001 - accuracy: 0.8143 - val_loss: 0.6987 - val_accuracy: 0.7864 - 3s/epoch - 21ms/step\n",
      "Epoch 50/100\n",
      "140/140 - 3s - loss: 0.5915 - accuracy: 0.8172 - val_loss: 0.6259 - val_accuracy: 0.8118 - 3s/epoch - 18ms/step\n",
      "Epoch 51/100\n",
      "140/140 - 2s - loss: 0.5920 - accuracy: 0.8166 - val_loss: 0.6329 - val_accuracy: 0.8081 - 2s/epoch - 17ms/step\n",
      "Epoch 52/100\n",
      "140/140 - 2s - loss: 0.5844 - accuracy: 0.8217 - val_loss: 0.6170 - val_accuracy: 0.8113 - 2s/epoch - 17ms/step\n",
      "Epoch 53/100\n",
      "140/140 - 2s - loss: 0.5742 - accuracy: 0.8238 - val_loss: 0.6425 - val_accuracy: 0.8032 - 2s/epoch - 17ms/step\n",
      "Epoch 54/100\n",
      "140/140 - 2s - loss: 0.5768 - accuracy: 0.8218 - val_loss: 0.6034 - val_accuracy: 0.8166 - 2s/epoch - 17ms/step\n",
      "Epoch 55/100\n",
      "140/140 - 2s - loss: 0.5845 - accuracy: 0.8174 - val_loss: 0.5821 - val_accuracy: 0.8219 - 2s/epoch - 18ms/step\n",
      "Epoch 56/100\n",
      "140/140 - 3s - loss: 0.5649 - accuracy: 0.8256 - val_loss: 0.5911 - val_accuracy: 0.8223 - 3s/epoch - 25ms/step\n",
      "Epoch 57/100\n",
      "140/140 - 4s - loss: 0.5612 - accuracy: 0.8256 - val_loss: 0.6383 - val_accuracy: 0.8024 - 4s/epoch - 27ms/step\n",
      "Epoch 58/100\n",
      "140/140 - 3s - loss: 0.5538 - accuracy: 0.8288 - val_loss: 0.5959 - val_accuracy: 0.8182 - 3s/epoch - 24ms/step\n",
      "Epoch 59/100\n",
      "140/140 - 4s - loss: 0.5495 - accuracy: 0.8305 - val_loss: 0.5720 - val_accuracy: 0.8272 - 4s/epoch - 30ms/step\n",
      "Epoch 60/100\n",
      "140/140 - 3s - loss: 0.5551 - accuracy: 0.8282 - val_loss: 0.5945 - val_accuracy: 0.8174 - 3s/epoch - 23ms/step\n",
      "Epoch 61/100\n",
      "140/140 - 2s - loss: 0.5431 - accuracy: 0.8327 - val_loss: 0.6007 - val_accuracy: 0.8184 - 2s/epoch - 17ms/step\n",
      "Epoch 62/100\n",
      "140/140 - 2s - loss: 0.5426 - accuracy: 0.8314 - val_loss: 0.5777 - val_accuracy: 0.8241 - 2s/epoch - 17ms/step\n",
      "Epoch 63/100\n",
      "140/140 - 3s - loss: 0.5294 - accuracy: 0.8359 - val_loss: 0.5586 - val_accuracy: 0.8312 - 3s/epoch - 18ms/step\n",
      "Epoch 64/100\n",
      "140/140 - 2s - loss: 0.5338 - accuracy: 0.8353 - val_loss: 0.5712 - val_accuracy: 0.8277 - 2s/epoch - 18ms/step\n",
      "Epoch 65/100\n",
      "140/140 - 2s - loss: 0.5322 - accuracy: 0.8342 - val_loss: 0.5606 - val_accuracy: 0.8318 - 2s/epoch - 17ms/step\n",
      "Epoch 66/100\n",
      "140/140 - 3s - loss: 0.5280 - accuracy: 0.8363 - val_loss: 0.5561 - val_accuracy: 0.8334 - 3s/epoch - 18ms/step\n",
      "Epoch 67/100\n",
      "140/140 - 3s - loss: 0.5329 - accuracy: 0.8348 - val_loss: 0.5764 - val_accuracy: 0.8247 - 3s/epoch - 21ms/step\n",
      "Epoch 68/100\n",
      "140/140 - 4s - loss: 0.5252 - accuracy: 0.8365 - val_loss: 0.5474 - val_accuracy: 0.8346 - 4s/epoch - 28ms/step\n",
      "Epoch 69/100\n",
      "140/140 - 4s - loss: 0.5101 - accuracy: 0.8416 - val_loss: 0.5675 - val_accuracy: 0.8282 - 4s/epoch - 27ms/step\n",
      "Epoch 70/100\n",
      "140/140 - 4s - loss: 0.5127 - accuracy: 0.8399 - val_loss: 0.5758 - val_accuracy: 0.8240 - 4s/epoch - 27ms/step\n",
      "Epoch 71/100\n",
      "140/140 - 4s - loss: 0.5137 - accuracy: 0.8414 - val_loss: 0.5345 - val_accuracy: 0.8383 - 4s/epoch - 27ms/step\n",
      "Epoch 72/100\n",
      "140/140 - 3s - loss: 0.5085 - accuracy: 0.8423 - val_loss: 0.5894 - val_accuracy: 0.8206 - 3s/epoch - 21ms/step\n",
      "Epoch 73/100\n",
      "140/140 - 3s - loss: 0.5068 - accuracy: 0.8430 - val_loss: 0.5262 - val_accuracy: 0.8403 - 3s/epoch - 21ms/step\n",
      "Epoch 74/100\n",
      "140/140 - 2s - loss: 0.5107 - accuracy: 0.8414 - val_loss: 0.5256 - val_accuracy: 0.8408 - 2s/epoch - 17ms/step\n",
      "Epoch 75/100\n",
      "140/140 - 3s - loss: 0.4937 - accuracy: 0.8455 - val_loss: 0.5345 - val_accuracy: 0.8385 - 3s/epoch - 18ms/step\n",
      "Epoch 76/100\n",
      "140/140 - 3s - loss: 0.4950 - accuracy: 0.8460 - val_loss: 0.5227 - val_accuracy: 0.8433 - 3s/epoch - 18ms/step\n",
      "Epoch 77/100\n",
      "140/140 - 3s - loss: 0.4904 - accuracy: 0.8475 - val_loss: 0.5445 - val_accuracy: 0.8364 - 3s/epoch - 18ms/step\n",
      "Epoch 78/100\n",
      "140/140 - 4s - loss: 0.4790 - accuracy: 0.8512 - val_loss: 0.5244 - val_accuracy: 0.8429 - 4s/epoch - 27ms/step\n",
      "Epoch 79/100\n",
      "140/140 - 4s - loss: 0.4846 - accuracy: 0.8499 - val_loss: 0.5159 - val_accuracy: 0.8435 - 4s/epoch - 29ms/step\n",
      "Epoch 80/100\n",
      "140/140 - 4s - loss: 0.4808 - accuracy: 0.8496 - val_loss: 0.5367 - val_accuracy: 0.8364 - 4s/epoch - 26ms/step\n",
      "Epoch 81/100\n",
      "140/140 - 4s - loss: 0.4733 - accuracy: 0.8532 - val_loss: 0.5471 - val_accuracy: 0.8336 - 4s/epoch - 26ms/step\n",
      "Epoch 82/100\n",
      "140/140 - 4s - loss: 0.4731 - accuracy: 0.8522 - val_loss: 0.5234 - val_accuracy: 0.8414 - 4s/epoch - 29ms/step\n",
      "Epoch 83/100\n",
      "140/140 - 3s - loss: 0.4800 - accuracy: 0.8505 - val_loss: 0.5524 - val_accuracy: 0.8334 - 3s/epoch - 19ms/step\n",
      "Epoch 84/100\n",
      "140/140 - 3s - loss: 0.4773 - accuracy: 0.8505 - val_loss: 0.5438 - val_accuracy: 0.8338 - 3s/epoch - 18ms/step\n",
      "Epoch 85/100\n",
      "140/140 - 3s - loss: 0.4682 - accuracy: 0.8537 - val_loss: 0.5564 - val_accuracy: 0.8313 - 3s/epoch - 18ms/step\n",
      "Epoch 86/100\n",
      "140/140 - 3s - loss: 0.4749 - accuracy: 0.8519 - val_loss: 0.5308 - val_accuracy: 0.8415 - 3s/epoch - 18ms/step\n",
      "Epoch 87/100\n",
      "140/140 - 3s - loss: 0.4573 - accuracy: 0.8572 - val_loss: 0.5234 - val_accuracy: 0.8406 - 3s/epoch - 20ms/step\n",
      "Epoch 88/100\n",
      "140/140 - 3s - loss: 0.4680 - accuracy: 0.8531 - val_loss: 0.5088 - val_accuracy: 0.8472 - 3s/epoch - 22ms/step\n",
      "Epoch 89/100\n",
      "140/140 - 4s - loss: 0.4536 - accuracy: 0.8580 - val_loss: 0.5074 - val_accuracy: 0.8485 - 4s/epoch - 29ms/step\n",
      "Epoch 90/100\n",
      "140/140 - 4s - loss: 0.4486 - accuracy: 0.8601 - val_loss: 0.5082 - val_accuracy: 0.8474 - 4s/epoch - 27ms/step\n",
      "Epoch 91/100\n",
      "140/140 - 4s - loss: 0.4502 - accuracy: 0.8599 - val_loss: 0.5190 - val_accuracy: 0.8439 - 4s/epoch - 27ms/step\n",
      "Epoch 92/100\n",
      "140/140 - 4s - loss: 0.4533 - accuracy: 0.8583 - val_loss: 0.4867 - val_accuracy: 0.8538 - 4s/epoch - 27ms/step\n",
      "Epoch 93/100\n",
      "140/140 - 3s - loss: 0.4565 - accuracy: 0.8569 - val_loss: 0.5359 - val_accuracy: 0.8375 - 3s/epoch - 19ms/step\n",
      "Epoch 94/100\n",
      "140/140 - 2s - loss: 0.4467 - accuracy: 0.8606 - val_loss: 0.4870 - val_accuracy: 0.8543 - 2s/epoch - 18ms/step\n",
      "Epoch 95/100\n",
      "140/140 - 3s - loss: 0.4469 - accuracy: 0.8586 - val_loss: 0.5003 - val_accuracy: 0.8499 - 3s/epoch - 18ms/step\n",
      "Epoch 96/100\n",
      "140/140 - 2s - loss: 0.4550 - accuracy: 0.8562 - val_loss: 0.5275 - val_accuracy: 0.8405 - 2s/epoch - 17ms/step\n",
      "Epoch 97/100\n",
      "140/140 - 3s - loss: 0.4475 - accuracy: 0.8591 - val_loss: 0.4914 - val_accuracy: 0.8515 - 3s/epoch - 18ms/step\n",
      "Epoch 98/100\n",
      "140/140 - 3s - loss: 0.4322 - accuracy: 0.8647 - val_loss: 0.5062 - val_accuracy: 0.8462 - 3s/epoch - 19ms/step\n",
      "Epoch 99/100\n",
      "140/140 - 4s - loss: 0.4434 - accuracy: 0.8599 - val_loss: 0.5249 - val_accuracy: 0.8406 - 4s/epoch - 32ms/step\n",
      "Epoch 100/100\n",
      "140/140 - 4s - loss: 0.4410 - accuracy: 0.8621 - val_loss: 0.5212 - val_accuracy: 0.8419 - 4s/epoch - 26ms/step\n"
     ]
    }
   ],
   "source": [
    "# Model Fitting\n",
    "\n",
    "fit_model = model.fit(X_train, y_train_label, validation_data=(X_val, y_val_label), epochs=100, batch_size=300, verbose=2)"
   ]
  },
  {
   "cell_type": "markdown",
   "metadata": {
    "id": "kVQNU_p9Avd2"
   },
   "source": [
    "### **C. Evaluate performance of the model with appropriate metrics.**"
   ]
  },
  {
   "cell_type": "code",
   "execution_count": 82,
   "metadata": {
    "colab": {
     "base_uri": "https://localhost:8080/"
    },
    "executionInfo": {
     "elapsed": 1768,
     "status": "ok",
     "timestamp": 1657467680055,
     "user": {
      "displayName": "Naveen Kumar",
      "userId": "15460283466251187880"
     },
     "user_tz": -330
    },
    "id": "57UgWfkMAYO8",
    "outputId": "dc2b139a-b7d7-4eaa-8b47-a4a010d77c13"
   },
   "outputs": [
    {
     "name": "stdout",
     "output_type": "stream",
     "text": [
      "563/563 - 2s - loss: 0.6965 - accuracy: 0.8033 - 2s/epoch - 3ms/step\n",
      "Loss: 0.696540892124176\n",
      "Accuracy: 0.8032777905464172\n"
     ]
    }
   ],
   "source": [
    "# Model Evaluation\n",
    "scores = model.evaluate(X_test, y_test_label, verbose=2)\n",
    "print(\"Loss:\", scores[0])\n",
    "print(\"Accuracy:\", scores[1])"
   ]
  },
  {
   "cell_type": "code",
   "execution_count": 83,
   "metadata": {
    "colab": {
     "base_uri": "https://localhost:8080/"
    },
    "executionInfo": {
     "elapsed": 372,
     "status": "ok",
     "timestamp": 1657467685966,
     "user": {
      "displayName": "Naveen Kumar",
      "userId": "15460283466251187880"
     },
     "user_tz": -330
    },
    "id": "QqObv-YJAYUN",
    "outputId": "1d73e80e-e445-43f1-a1a0-bfe0922da4cd"
   },
   "outputs": [
    {
     "name": "stdout",
     "output_type": "stream",
     "text": [
      "Model: \"sequential_21\"\n",
      "_________________________________________________________________\n",
      " Layer (type)                Output Shape              Param #   \n",
      "=================================================================\n",
      " flatten (Flatten)           (None, 1024)              0         \n",
      "                                                                 \n",
      " dense_105 (Dense)           (None, 256)               262400    \n",
      "                                                                 \n",
      " dense_106 (Dense)           (None, 64)                16448     \n",
      "                                                                 \n",
      " dense_107 (Dense)           (None, 64)                4160      \n",
      "                                                                 \n",
      " dense_108 (Dense)           (None, 32)                2080      \n",
      "                                                                 \n",
      " dense_109 (Dense)           (None, 10)                330       \n",
      "                                                                 \n",
      "=================================================================\n",
      "Total params: 285,418\n",
      "Trainable params: 285,418\n",
      "Non-trainable params: 0\n",
      "_________________________________________________________________\n"
     ]
    }
   ],
   "source": [
    "model.summary()"
   ]
  },
  {
   "cell_type": "code",
   "execution_count": 84,
   "metadata": {
    "executionInfo": {
     "elapsed": 986,
     "status": "ok",
     "timestamp": 1657467694916,
     "user": {
      "displayName": "Naveen Kumar",
      "userId": "15460283466251187880"
     },
     "user_tz": -330
    },
    "id": "YejXryhBCB0-"
   },
   "outputs": [],
   "source": [
    "# Prediction for X_test\n",
    "y_test_pred = model.predict(X_test)\n",
    "\n",
    "# Find out the predictions classes with maximum probability\n",
    "y_test_pred = np.argmax(y_test_pred, axis=1)"
   ]
  },
  {
   "cell_type": "code",
   "execution_count": 85,
   "metadata": {
    "colab": {
     "base_uri": "https://localhost:8080/"
    },
    "executionInfo": {
     "elapsed": 440,
     "status": "ok",
     "timestamp": 1657467695354,
     "user": {
      "displayName": "Naveen Kumar",
      "userId": "15460283466251187880"
     },
     "user_tz": -330
    },
    "id": "x_oe9md2UjBG",
    "outputId": "7f3b2c49-a80c-4ae5-83db-676ab01679f7"
   },
   "outputs": [
    {
     "data": {
      "text/plain": [
       "array([0, 2, 2, ..., 7, 9, 2])"
      ]
     },
     "execution_count": 85,
     "metadata": {},
     "output_type": "execute_result"
    }
   ],
   "source": [
    "y_test_pred"
   ]
  },
  {
   "cell_type": "code",
   "execution_count": 86,
   "metadata": {
    "colab": {
     "base_uri": "https://localhost:8080/"
    },
    "executionInfo": {
     "elapsed": 3,
     "status": "ok",
     "timestamp": 1657467697242,
     "user": {
      "displayName": "Naveen Kumar",
      "userId": "15460283466251187880"
     },
     "user_tz": -330
    },
    "id": "lStoSkWPU0vN",
    "outputId": "af99c842-fe8a-49cc-d407-e71e280b2c4e"
   },
   "outputs": [
    {
     "data": {
      "text/plain": [
       "array([[1501,   52,    6,   38,   57,   19,   46,   37,   14,   44],\n",
       "       [  35, 1488,   22,   70,   77,   18,   17,   66,   19,   16],\n",
       "       [  20,   28, 1455,   77,   40,   27,    6,  107,   18,   25],\n",
       "       [  23,   36,   38, 1357,   25,  125,   14,   50,   29,   22],\n",
       "       [  33,   40,   27,   22, 1579,   26,   30,   18,   14,   23],\n",
       "       [  23,   19,    8,  120,   19, 1418,   72,   26,   32,   31],\n",
       "       [  62,   33,   15,   38,   58,   91, 1443,   17,   60,   15],\n",
       "       [  14,   60,   43,   37,   18,   13,   12, 1585,   11,   15],\n",
       "       [  45,   43,   19,  105,   48,   85,  116,   22, 1271,   58],\n",
       "       [  68,   43,   27,   70,   48,   92,   24,   38,   32, 1362]])"
      ]
     },
     "execution_count": 86,
     "metadata": {},
     "output_type": "execute_result"
    }
   ],
   "source": [
    "confusion_matrix(y_test, y_test_pred )"
   ]
  },
  {
   "cell_type": "code",
   "execution_count": 87,
   "metadata": {
    "colab": {
     "base_uri": "https://localhost:8080/"
    },
    "executionInfo": {
     "elapsed": 625,
     "status": "ok",
     "timestamp": 1657467699267,
     "user": {
      "displayName": "Naveen Kumar",
      "userId": "15460283466251187880"
     },
     "user_tz": -330
    },
    "id": "DJTW3n-eU_FE",
    "outputId": "4b82dae4-311a-4d03-81cb-133ed3ddac53"
   },
   "outputs": [
    {
     "name": "stdout",
     "output_type": "stream",
     "text": [
      "              precision    recall  f1-score   support\n",
      "\n",
      "           0       0.82      0.83      0.83      1814\n",
      "           1       0.81      0.81      0.81      1828\n",
      "           2       0.88      0.81      0.84      1803\n",
      "           3       0.70      0.79      0.74      1719\n",
      "           4       0.80      0.87      0.84      1812\n",
      "           5       0.74      0.80      0.77      1768\n",
      "           6       0.81      0.79      0.80      1832\n",
      "           7       0.81      0.88      0.84      1808\n",
      "           8       0.85      0.70      0.77      1812\n",
      "           9       0.85      0.75      0.80      1804\n",
      "\n",
      "    accuracy                           0.80     18000\n",
      "   macro avg       0.81      0.80      0.80     18000\n",
      "weighted avg       0.81      0.80      0.80     18000\n",
      "\n"
     ]
    }
   ],
   "source": [
    "print(classification_report(y_test, y_test_pred))"
   ]
  },
  {
   "cell_type": "markdown",
   "metadata": {
    "id": "2YWl0vv_CD-W"
   },
   "source": [
    "### **D. Plot the training loss, validation loss vs number of epochs and training accuracy, validation accuracy vs number of epochs plot and write your observations on the same.**"
   ]
  },
  {
   "cell_type": "code",
   "execution_count": 88,
   "metadata": {
    "colab": {
     "base_uri": "https://localhost:8080/"
    },
    "executionInfo": {
     "elapsed": 420,
     "status": "ok",
     "timestamp": 1657467710718,
     "user": {
      "displayName": "Naveen Kumar",
      "userId": "15460283466251187880"
     },
     "user_tz": -330
    },
    "id": "vnrQj1-GEo97",
    "outputId": "700fb9e7-4b6f-4615-ef96-7e166bbae80c"
   },
   "outputs": [
    {
     "data": {
      "text/plain": [
       "{'accuracy': [0.13552381098270416,\n",
       "  0.31247618794441223,\n",
       "  0.4383809566497803,\n",
       "  0.5199523568153381,\n",
       "  0.5664047598838806,\n",
       "  0.5984761714935303,\n",
       "  0.6087619066238403,\n",
       "  0.6422619223594666,\n",
       "  0.6607142686843872,\n",
       "  0.6675952672958374,\n",
       "  0.6813809275627136,\n",
       "  0.6976428627967834,\n",
       "  0.7019523978233337,\n",
       "  0.7068809270858765,\n",
       "  0.7110952138900757,\n",
       "  0.7238571643829346,\n",
       "  0.7286190390586853,\n",
       "  0.73416668176651,\n",
       "  0.7412381172180176,\n",
       "  0.743571400642395,\n",
       "  0.7494285702705383,\n",
       "  0.7525952458381653,\n",
       "  0.7562618851661682,\n",
       "  0.7615237832069397,\n",
       "  0.7642857432365417,\n",
       "  0.7680000066757202,\n",
       "  0.7680237889289856,\n",
       "  0.77269047498703,\n",
       "  0.7752380967140198,\n",
       "  0.7811904549598694,\n",
       "  0.7782857418060303,\n",
       "  0.7806428670883179,\n",
       "  0.7870237827301025,\n",
       "  0.786642849445343,\n",
       "  0.7913809418678284,\n",
       "  0.7919762134552002,\n",
       "  0.7972618937492371,\n",
       "  0.7994285821914673,\n",
       "  0.7994523644447327,\n",
       "  0.8008809685707092,\n",
       "  0.803690493106842,\n",
       "  0.8048095107078552,\n",
       "  0.8056666851043701,\n",
       "  0.8086904883384705,\n",
       "  0.8135952353477478,\n",
       "  0.8149285912513733,\n",
       "  0.8113095164299011,\n",
       "  0.8154285550117493,\n",
       "  0.8142856955528259,\n",
       "  0.81721431016922,\n",
       "  0.8166190385818481,\n",
       "  0.8217381238937378,\n",
       "  0.8238095045089722,\n",
       "  0.8218095302581787,\n",
       "  0.817380964756012,\n",
       "  0.8256428837776184,\n",
       "  0.8256190419197083,\n",
       "  0.8288094997406006,\n",
       "  0.8305237889289856,\n",
       "  0.8282142877578735,\n",
       "  0.8326666951179504,\n",
       "  0.831428587436676,\n",
       "  0.8358571529388428,\n",
       "  0.8353333473205566,\n",
       "  0.8341666460037231,\n",
       "  0.8363333344459534,\n",
       "  0.834761917591095,\n",
       "  0.8365476131439209,\n",
       "  0.841619074344635,\n",
       "  0.8399285674095154,\n",
       "  0.8413571715354919,\n",
       "  0.8423333168029785,\n",
       "  0.8430476188659668,\n",
       "  0.8414047360420227,\n",
       "  0.8454523682594299,\n",
       "  0.8460237979888916,\n",
       "  0.8474524021148682,\n",
       "  0.8512142896652222,\n",
       "  0.8498571515083313,\n",
       "  0.8496428728103638,\n",
       "  0.8531904816627502,\n",
       "  0.852238118648529,\n",
       "  0.850523829460144,\n",
       "  0.8505476117134094,\n",
       "  0.8537380695343018,\n",
       "  0.8518571257591248,\n",
       "  0.8572381138801575,\n",
       "  0.8531428575515747,\n",
       "  0.8580238223075867,\n",
       "  0.8600952625274658,\n",
       "  0.8599047660827637,\n",
       "  0.8582618832588196,\n",
       "  0.8568809628486633,\n",
       "  0.8605714440345764,\n",
       "  0.8586190342903137,\n",
       "  0.8562142848968506,\n",
       "  0.8591428399085999,\n",
       "  0.8647381067276001,\n",
       "  0.8598571419715881,\n",
       "  0.8620714545249939],\n",
       " 'loss': [2.2769553661346436,\n",
       "  1.9278556108474731,\n",
       "  1.6347569227218628,\n",
       "  1.4427826404571533,\n",
       "  1.3237253427505493,\n",
       "  1.245949625968933,\n",
       "  1.217950463294983,\n",
       "  1.131506323814392,\n",
       "  1.084854006767273,\n",
       "  1.0637603998184204,\n",
       "  1.021667718887329,\n",
       "  0.9860541224479675,\n",
       "  0.9653187394142151,\n",
       "  0.9498889446258545,\n",
       "  0.9296269416809082,\n",
       "  0.8946579098701477,\n",
       "  0.8796901702880859,\n",
       "  0.8659775853157043,\n",
       "  0.842483639717102,\n",
       "  0.8314380645751953,\n",
       "  0.8170790672302246,\n",
       "  0.8025770783424377,\n",
       "  0.7895236015319824,\n",
       "  0.7706082463264465,\n",
       "  0.7658132910728455,\n",
       "  0.7529498934745789,\n",
       "  0.7492234706878662,\n",
       "  0.7380321621894836,\n",
       "  0.7303131818771362,\n",
       "  0.7111477851867676,\n",
       "  0.7136405110359192,\n",
       "  0.7058570981025696,\n",
       "  0.6910718679428101,\n",
       "  0.6862170100212097,\n",
       "  0.6773910522460938,\n",
       "  0.6752570867538452,\n",
       "  0.6581208109855652,\n",
       "  0.6551706790924072,\n",
       "  0.6515136361122131,\n",
       "  0.647921621799469,\n",
       "  0.6397887468338013,\n",
       "  0.6372063159942627,\n",
       "  0.6352776885032654,\n",
       "  0.6207993626594543,\n",
       "  0.6048277616500854,\n",
       "  0.6052420735359192,\n",
       "  0.6126235723495483,\n",
       "  0.6007264256477356,\n",
       "  0.6000906229019165,\n",
       "  0.5915014147758484,\n",
       "  0.5920243263244629,\n",
       "  0.5844208598136902,\n",
       "  0.5741714835166931,\n",
       "  0.5768260955810547,\n",
       "  0.584491491317749,\n",
       "  0.5649439692497253,\n",
       "  0.5612192153930664,\n",
       "  0.553758442401886,\n",
       "  0.5495322942733765,\n",
       "  0.5550772547721863,\n",
       "  0.5430554151535034,\n",
       "  0.5426477789878845,\n",
       "  0.5293579697608948,\n",
       "  0.5337501764297485,\n",
       "  0.5322354435920715,\n",
       "  0.5279898047447205,\n",
       "  0.5329042673110962,\n",
       "  0.5252206325531006,\n",
       "  0.5100849866867065,\n",
       "  0.5126609206199646,\n",
       "  0.5136563181877136,\n",
       "  0.5085481405258179,\n",
       "  0.5068289637565613,\n",
       "  0.5106813311576843,\n",
       "  0.49372968077659607,\n",
       "  0.4950355887413025,\n",
       "  0.4903987646102905,\n",
       "  0.47900786995887756,\n",
       "  0.4845772981643677,\n",
       "  0.4808029532432556,\n",
       "  0.47327864170074463,\n",
       "  0.4731106162071228,\n",
       "  0.47997283935546875,\n",
       "  0.47728896141052246,\n",
       "  0.4681673049926758,\n",
       "  0.4749137759208679,\n",
       "  0.4573242664337158,\n",
       "  0.4680018126964569,\n",
       "  0.453644722700119,\n",
       "  0.4485527276992798,\n",
       "  0.4501987099647522,\n",
       "  0.45332932472229004,\n",
       "  0.4564897119998932,\n",
       "  0.44665244221687317,\n",
       "  0.446929395198822,\n",
       "  0.4550378620624542,\n",
       "  0.4474563002586365,\n",
       "  0.43220070004463196,\n",
       "  0.44337624311447144,\n",
       "  0.4409739077091217],\n",
       " 'val_accuracy': [0.2353000044822693,\n",
       "  0.3765166699886322,\n",
       "  0.49291667342185974,\n",
       "  0.5598000288009644,\n",
       "  0.586733341217041,\n",
       "  0.5854833126068115,\n",
       "  0.6401500105857849,\n",
       "  0.6503999829292297,\n",
       "  0.6695833206176758,\n",
       "  0.6777999997138977,\n",
       "  0.6904500126838684,\n",
       "  0.6950333118438721,\n",
       "  0.70496666431427,\n",
       "  0.7076833248138428,\n",
       "  0.7278666496276855,\n",
       "  0.7218499779701233,\n",
       "  0.7372999787330627,\n",
       "  0.7387833595275879,\n",
       "  0.7404666543006897,\n",
       "  0.7425166964530945,\n",
       "  0.743316650390625,\n",
       "  0.7512666583061218,\n",
       "  0.7683333158493042,\n",
       "  0.7522666454315186,\n",
       "  0.7599666714668274,\n",
       "  0.7745833396911621,\n",
       "  0.7656000256538391,\n",
       "  0.7621833086013794,\n",
       "  0.7857000231742859,\n",
       "  0.7837166786193848,\n",
       "  0.7567333579063416,\n",
       "  0.7840166687965393,\n",
       "  0.7886000275611877,\n",
       "  0.7780666947364807,\n",
       "  0.7738833427429199,\n",
       "  0.7868833541870117,\n",
       "  0.7954999804496765,\n",
       "  0.797950029373169,\n",
       "  0.7977499961853027,\n",
       "  0.797249972820282,\n",
       "  0.8016833066940308,\n",
       "  0.8030166625976562,\n",
       "  0.7990833520889282,\n",
       "  0.8081166744232178,\n",
       "  0.7942666411399841,\n",
       "  0.8074166774749756,\n",
       "  0.8003000020980835,\n",
       "  0.814633309841156,\n",
       "  0.7863500118255615,\n",
       "  0.8118166923522949,\n",
       "  0.8080666661262512,\n",
       "  0.8113333582878113,\n",
       "  0.8032333254814148,\n",
       "  0.8166333436965942,\n",
       "  0.8218833208084106,\n",
       "  0.8223000168800354,\n",
       "  0.8023999929428101,\n",
       "  0.8181833624839783,\n",
       "  0.8271833062171936,\n",
       "  0.8173999786376953,\n",
       "  0.8183500170707703,\n",
       "  0.8240833282470703,\n",
       "  0.8311833143234253,\n",
       "  0.8276666402816772,\n",
       "  0.8318333625793457,\n",
       "  0.833383321762085,\n",
       "  0.8246999979019165,\n",
       "  0.8345999717712402,\n",
       "  0.8282166719436646,\n",
       "  0.8239833116531372,\n",
       "  0.8383499979972839,\n",
       "  0.8205999732017517,\n",
       "  0.8403333425521851,\n",
       "  0.8408499956130981,\n",
       "  0.8384833335876465,\n",
       "  0.8433333039283752,\n",
       "  0.8364499807357788,\n",
       "  0.8429166674613953,\n",
       "  0.8434666395187378,\n",
       "  0.8364499807357788,\n",
       "  0.8335833549499512,\n",
       "  0.8413666486740112,\n",
       "  0.8333500027656555,\n",
       "  0.8337500095367432,\n",
       "  0.8312666416168213,\n",
       "  0.8414666652679443,\n",
       "  0.8406000137329102,\n",
       "  0.8471999764442444,\n",
       "  0.8485166430473328,\n",
       "  0.84743332862854,\n",
       "  0.8438500165939331,\n",
       "  0.8537833094596863,\n",
       "  0.8375166654586792,\n",
       "  0.8543499708175659,\n",
       "  0.8498666882514954,\n",
       "  0.8404833078384399,\n",
       "  0.8515333533287048,\n",
       "  0.8461833596229553,\n",
       "  0.8405666947364807,\n",
       "  0.8418833613395691],\n",
       " 'val_loss': [2.1395323276519775,\n",
       "  1.7639861106872559,\n",
       "  1.529525637626648,\n",
       "  1.3401472568511963,\n",
       "  1.271315574645996,\n",
       "  1.2658073902130127,\n",
       "  1.145180583000183,\n",
       "  1.1041107177734375,\n",
       "  1.056397557258606,\n",
       "  1.0311230421066284,\n",
       "  0.9951468110084534,\n",
       "  0.986030638217926,\n",
       "  0.957918107509613,\n",
       "  0.9468104839324951,\n",
       "  0.8902044892311096,\n",
       "  0.8973334431648254,\n",
       "  0.853910505771637,\n",
       "  0.8554501533508301,\n",
       "  0.8385636806488037,\n",
       "  0.8309463262557983,\n",
       "  0.8311370015144348,\n",
       "  0.8099846243858337,\n",
       "  0.7594637274742126,\n",
       "  0.7968186140060425,\n",
       "  0.7790278196334839,\n",
       "  0.7378973960876465,\n",
       "  0.7585504651069641,\n",
       "  0.7758729457855225,\n",
       "  0.7052071690559387,\n",
       "  0.7128157019615173,\n",
       "  0.8009400963783264,\n",
       "  0.7112927436828613,\n",
       "  0.694409191608429,\n",
       "  0.7229647040367126,\n",
       "  0.7482982873916626,\n",
       "  0.6964117288589478,\n",
       "  0.6753496527671814,\n",
       "  0.6650110483169556,\n",
       "  0.6705693602561951,\n",
       "  0.6633328795433044,\n",
       "  0.6529226303100586,\n",
       "  0.6491473317146301,\n",
       "  0.6605585217475891,\n",
       "  0.6369124054908752,\n",
       "  0.6754726767539978,\n",
       "  0.6346313953399658,\n",
       "  0.6563334465026855,\n",
       "  0.6124339699745178,\n",
       "  0.6987323760986328,\n",
       "  0.625863790512085,\n",
       "  0.6328880190849304,\n",
       "  0.6169520020484924,\n",
       "  0.6424769759178162,\n",
       "  0.6034346222877502,\n",
       "  0.5820745229721069,\n",
       "  0.5911486148834229,\n",
       "  0.6382620930671692,\n",
       "  0.5959296822547913,\n",
       "  0.5720459222793579,\n",
       "  0.5945172905921936,\n",
       "  0.60072261095047,\n",
       "  0.5776934623718262,\n",
       "  0.5586414933204651,\n",
       "  0.5712485909461975,\n",
       "  0.5606109499931335,\n",
       "  0.5560771226882935,\n",
       "  0.5764258503913879,\n",
       "  0.547426164150238,\n",
       "  0.5675281882286072,\n",
       "  0.5757728219032288,\n",
       "  0.5344580411911011,\n",
       "  0.5893806219100952,\n",
       "  0.526181161403656,\n",
       "  0.5256187319755554,\n",
       "  0.534497082233429,\n",
       "  0.5227393507957458,\n",
       "  0.544495165348053,\n",
       "  0.524435818195343,\n",
       "  0.5158698558807373,\n",
       "  0.5367310643196106,\n",
       "  0.547050952911377,\n",
       "  0.5233885645866394,\n",
       "  0.5524278879165649,\n",
       "  0.5437526106834412,\n",
       "  0.5564478635787964,\n",
       "  0.5307958126068115,\n",
       "  0.5233839750289917,\n",
       "  0.5087738037109375,\n",
       "  0.5073912143707275,\n",
       "  0.5082041025161743,\n",
       "  0.5189559459686279,\n",
       "  0.48671793937683105,\n",
       "  0.5359429121017456,\n",
       "  0.48700064420700073,\n",
       "  0.5003359913825989,\n",
       "  0.5274657011032104,\n",
       "  0.4913710057735443,\n",
       "  0.5062309503555298,\n",
       "  0.5248903036117554,\n",
       "  0.5211667418479919]}"
      ]
     },
     "execution_count": 88,
     "metadata": {},
     "output_type": "execute_result"
    }
   ],
   "source": [
    "fit_model.history"
   ]
  },
  {
   "cell_type": "code",
   "execution_count": 89,
   "metadata": {
    "executionInfo": {
     "elapsed": 356,
     "status": "ok",
     "timestamp": 1657467715284,
     "user": {
      "displayName": "Naveen Kumar",
      "userId": "15460283466251187880"
     },
     "user_tz": -330
    },
    "id": "LXWxVJUIAYW9"
   },
   "outputs": [],
   "source": [
    "accuracy      = fit_model.history['accuracy']\n",
    "val_accuracy  = fit_model.history['val_accuracy']\n",
    "loss     = fit_model.history['loss']\n",
    "val_loss = fit_model.history['val_loss']\n",
    "\n",
    "epochs   = range(len(accuracy))"
   ]
  },
  {
   "cell_type": "code",
   "execution_count": 90,
   "metadata": {
    "colab": {
     "base_uri": "https://localhost:8080/",
     "height": 353
    },
    "executionInfo": {
     "elapsed": 1179,
     "status": "ok",
     "timestamp": 1657467718879,
     "user": {
      "displayName": "Naveen Kumar",
      "userId": "15460283466251187880"
     },
     "user_tz": -330
    },
    "id": "39Zbo3Q5YEN_",
    "outputId": "44e97c53-1034-44b6-ba89-c1828e126583"
   },
   "outputs": [
    {
     "data": {
      "text/plain": [
       "<matplotlib.legend.Legend at 0x7fc1d19e87d0>"
      ]
     },
     "execution_count": 90,
     "metadata": {},
     "output_type": "execute_result"
    },
    {
     "data": {
      "image/png": "[encoded data removed]",
      "text/plain": [
       "<Figure size 1080x360 with 1 Axes>"
      ]
     },
     "metadata": {
      "needs_background": "light"
     },
     "output_type": "display_data"
    }
   ],
   "source": [
    "# Training and validation accuracy\n",
    "plt.figure(figsize=(15, 5))\n",
    "plt.plot  (epochs, accuracy, label = 'training accuracy')\n",
    "plt.plot  (epochs, val_accuracy, label = 'validation accuracy')\n",
    "plt.title ('Training and validation accuracy')\n",
    "plt.legend(loc = 'lower right')\n"
   ]
  },
  {
   "cell_type": "code",
   "execution_count": 91,
   "metadata": {
    "colab": {
     "base_uri": "https://localhost:8080/",
     "height": 353
    },
    "executionInfo": {
     "elapsed": 1140,
     "status": "ok",
     "timestamp": 1657467723432,
     "user": {
      "displayName": "Naveen Kumar",
      "userId": "15460283466251187880"
     },
     "user_tz": -330
    },
    "id": "zL4Hk5XZYIsS",
    "outputId": "bd7dd917-c024-403d-870d-bcdf33e80f1c"
   },
   "outputs": [
    {
     "data": {
      "text/plain": [
       "<matplotlib.legend.Legend at 0x7fc1ccd9b210>"
      ]
     },
     "execution_count": 91,
     "metadata": {},
     "output_type": "execute_result"
    },
    {
     "data": {
      "image/png": "[encoded data removed]",
      "text/plain": [
       "<Figure size 1080x360 with 1 Axes>"
      ]
     },
     "metadata": {
      "needs_background": "light"
     },
     "output_type": "display_data"
    }
   ],
   "source": [
    "# Training and validation loss\n",
    "plt.figure(figsize=(15, 5))\n",
    "plt.plot  (epochs, loss, label = 'training loss')\n",
    "plt.plot  (epochs, val_loss, label = 'validation loss')\n",
    "plt.title ('Training and validation loss')\n",
    "plt.legend(loc = 'upper right')"
   ]
  },
  {
   "cell_type": "markdown",
   "metadata": {
    "id": "svYr174pVz5v"
   },
   "source": [
    "**Observations:**\n",
    "\n",
    "* Model is built with 10 types of image numbers combo ranging from 0-9\n",
    "* It is noticed that both train & validation datasets have pretty much same accuracy & loss ( although, there is slight more loss for validation set).\n",
    "\n",
    "* The model fetting seems to happen properly. Accuracy in detecting the numbers from image for different datasets are:\n",
    "\n",
    "  * Train accuracy - 86 %\n",
    "  * Validation accuracy - 84 %\n",
    "  * Test accuracy - 80 %"
   ]
  },
  {
   "cell_type": "code",
   "execution_count": null,
   "metadata": {
    "id": "t1mQIaLfXb-m"
   },
   "outputs": [],
   "source": []
  },
  {
   "cell_type": "markdown",
   "metadata": {
    "id": "6WRv_MiJcegs"
   },
   "source": []
  }
 ],
 "metadata": {
  "colab": {
   "authorship_tag": "ABX9TyPIU8MD2IrH50eSX3bIxW9J",
   "collapsed_sections": [
    "ELKKuZazDtd2",
    "T2ydk7jDDyCh",
    "HhfcT-xKE0pe",
    "-SWy1nqjFZ14",
    "v-zTzjJiGQOk",
    "ozPx9e7IKgwD",
    "Z3yZZRSURx0I",
    "buDYJY5UR4bW",
    "Q72FFi6_WAD7",
    "LmkVUAIR3Vlp",
    "oLoy58zPYu5g",
    "UF1NZXtBZo2z",
    "F1uV01cQdR23",
    "s3RsP4IndZ6m",
    "JQQ-5Tl6dtOP",
    "Nmt_4_SE07NT",
    "76-apXbDloDH",
    "oRrFhqAHudqK",
    "ISILH1BpU5kw",
    "jfOeDczjU-m4",
    "AeN3__icb39T",
    "-4fG92FLcCnV",
    "UhOGgfuTcPO_",
    "tnbhPii-cVnO",
    "jqn3_FiQcfEv",
    "uxM0N9y2dHaI",
    "Qgptcz6hdNIn",
    "vABhbDAadghF",
    "-ydHRGsx6ajD",
    "_A3fv98O8d3n"
   ],
   "name": "NN_project.ipynb",
   "provenance": []
  },
  "gpuClass": "standard",
  "kernelspec": {
   "display_name": "Python 3 (ipykernel)",
   "language": "python",
   "name": "python3"
  },
  "language_info": {
   "codemirror_mode": {
    "name": "ipython",
    "version": 3
   },
   "file_extension": ".py",
   "mimetype": "text/x-python",
   "name": "python",
   "nbconvert_exporter": "python",
   "pygments_lexer": "ipython3",
   "version": "3.9.13"
  }
 },
 "nbformat": 4,
 "nbformat_minor": 1
}
